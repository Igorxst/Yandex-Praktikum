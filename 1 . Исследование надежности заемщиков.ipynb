{
 "cells": [
  {
   "cell_type": "markdown",
   "id": "46bf68cb",
   "metadata": {
    "deletable": false,
    "editable": false,
    "id": "c81daeeb"
   },
   "source": [
    "# Исследование надежности заемщиков\n"
   ]
  },
  {
   "cell_type": "markdown",
   "id": "d38c13cc",
   "metadata": {},
   "source": [
    "В данном проекте мы проанализируем надежность заемщиков банка для построения модели кредитного скоринга - специальной системы, которая оценивает способность потенциального заёмщика вернуть кредит банку.\n",
    "\n",
    "В исследование будут использоватся следуюзщие данные:\n",
    "* children — количество детей в семье\n",
    "* days_employed — общий трудовой стаж в днях\n",
    "* dob_years — возраст клиента в годах\n",
    "* education — уровень образования клиента\n",
    "* education_id — идентификатор уровня образования\n",
    "* family_status — семейное положение\n",
    "* family_status_id — идентификатор семейного положения\n",
    "* gender — пол клиента\n",
    "* income_type — тип занятости\n",
    "* debt — имел ли задолженность по возврату кредитов\n",
    "* total_income — ежемесячный доход\n",
    "* purpose — цель получения кредита\n",
    "\n",
    "Для начало проанализируем данные на наличие пропусков, дубликатов и аномальных значений для того что бы минимизировать искажения  результатов исследования. Далее проанализируем как количество детей, семейное положение, уровень дохода и цель кредита влияют на возврат кредита в срок. И опираясь на полученные результаты дадим свои рекомендации по улучшению скоринговой системы.\n"
   ]
  },
  {
   "cell_type": "markdown",
   "id": "84028ed4",
   "metadata": {
    "deletable": false,
    "editable": false,
    "id": "827c20bf"
   },
   "source": [
    "Во второй части проекта вы выполните шаги 3 и 4. Их вручную проверит ревьюер.\n",
    "Чтобы вам не пришлось писать код заново для шагов 1 и 2, мы добавили авторские решения в ячейки с кодом. \n",
    "\n"
   ]
  },
  {
   "cell_type": "markdown",
   "id": "4f89225c",
   "metadata": {
    "deletable": false,
    "editable": false,
    "id": "744d7639"
   },
   "source": [
    "## Откройте таблицу и изучите общую информацию о данных"
   ]
  },
  {
   "cell_type": "markdown",
   "id": "b9be0137",
   "metadata": {
    "deletable": false,
    "editable": false,
    "id": "e7a14c31"
   },
   "source": [
    "**Задание 1. Импортируйте библиотеку pandas. Считайте данные из csv-файла в датафрейм и сохраните в переменную `data`. Путь к файлу:**\n",
    "\n",
    "`/datasets/data.csv`"
   ]
  },
  {
   "cell_type": "code",
   "execution_count": 1,
   "id": "b4f41b76",
   "metadata": {
    "deletable": false,
    "id": "7bcf75c9"
   },
   "outputs": [],
   "source": [
    "import pandas as pd\n",
    "\n",
    "try:\n",
    "    data = pd.read_csv('/datasets/data.csv')\n",
    "except:\n",
    "    data = pd.read_csv('https://code.s3.yandex.net/datasets/data.csv')"
   ]
  },
  {
   "cell_type": "markdown",
   "id": "1bb979ab",
   "metadata": {
    "deletable": false,
    "editable": false,
    "id": "b8038fe3"
   },
   "source": [
    "**Задание 2. Выведите первые 20 строчек датафрейма `data` на экран.**"
   ]
  },
  {
   "cell_type": "code",
   "execution_count": 2,
   "id": "80e7e103",
   "metadata": {
    "deletable": false,
    "id": "2a7cab99",
    "outputId": "1a8f3ef2-d323-4ec2-ddf7-89670b5944c4"
   },
   "outputs": [
    {
     "data": {
      "text/html": [
       "<div>\n",
       "<style scoped>\n",
       "    .dataframe tbody tr th:only-of-type {\n",
       "        vertical-align: middle;\n",
       "    }\n",
       "\n",
       "    .dataframe tbody tr th {\n",
       "        vertical-align: top;\n",
       "    }\n",
       "\n",
       "    .dataframe thead th {\n",
       "        text-align: right;\n",
       "    }\n",
       "</style>\n",
       "<table border=\"1\" class=\"dataframe\">\n",
       "  <thead>\n",
       "    <tr style=\"text-align: right;\">\n",
       "      <th></th>\n",
       "      <th>children</th>\n",
       "      <th>days_employed</th>\n",
       "      <th>dob_years</th>\n",
       "      <th>education</th>\n",
       "      <th>education_id</th>\n",
       "      <th>family_status</th>\n",
       "      <th>family_status_id</th>\n",
       "      <th>gender</th>\n",
       "      <th>income_type</th>\n",
       "      <th>debt</th>\n",
       "      <th>total_income</th>\n",
       "      <th>purpose</th>\n",
       "    </tr>\n",
       "  </thead>\n",
       "  <tbody>\n",
       "    <tr>\n",
       "      <th>0</th>\n",
       "      <td>1</td>\n",
       "      <td>-8437.673028</td>\n",
       "      <td>42</td>\n",
       "      <td>высшее</td>\n",
       "      <td>0</td>\n",
       "      <td>женат / замужем</td>\n",
       "      <td>0</td>\n",
       "      <td>F</td>\n",
       "      <td>сотрудник</td>\n",
       "      <td>0</td>\n",
       "      <td>253875.639453</td>\n",
       "      <td>покупка жилья</td>\n",
       "    </tr>\n",
       "    <tr>\n",
       "      <th>1</th>\n",
       "      <td>1</td>\n",
       "      <td>-4024.803754</td>\n",
       "      <td>36</td>\n",
       "      <td>среднее</td>\n",
       "      <td>1</td>\n",
       "      <td>женат / замужем</td>\n",
       "      <td>0</td>\n",
       "      <td>F</td>\n",
       "      <td>сотрудник</td>\n",
       "      <td>0</td>\n",
       "      <td>112080.014102</td>\n",
       "      <td>приобретение автомобиля</td>\n",
       "    </tr>\n",
       "    <tr>\n",
       "      <th>2</th>\n",
       "      <td>0</td>\n",
       "      <td>-5623.422610</td>\n",
       "      <td>33</td>\n",
       "      <td>Среднее</td>\n",
       "      <td>1</td>\n",
       "      <td>женат / замужем</td>\n",
       "      <td>0</td>\n",
       "      <td>M</td>\n",
       "      <td>сотрудник</td>\n",
       "      <td>0</td>\n",
       "      <td>145885.952297</td>\n",
       "      <td>покупка жилья</td>\n",
       "    </tr>\n",
       "    <tr>\n",
       "      <th>3</th>\n",
       "      <td>3</td>\n",
       "      <td>-4124.747207</td>\n",
       "      <td>32</td>\n",
       "      <td>среднее</td>\n",
       "      <td>1</td>\n",
       "      <td>женат / замужем</td>\n",
       "      <td>0</td>\n",
       "      <td>M</td>\n",
       "      <td>сотрудник</td>\n",
       "      <td>0</td>\n",
       "      <td>267628.550329</td>\n",
       "      <td>дополнительное образование</td>\n",
       "    </tr>\n",
       "    <tr>\n",
       "      <th>4</th>\n",
       "      <td>0</td>\n",
       "      <td>340266.072047</td>\n",
       "      <td>53</td>\n",
       "      <td>среднее</td>\n",
       "      <td>1</td>\n",
       "      <td>гражданский брак</td>\n",
       "      <td>1</td>\n",
       "      <td>F</td>\n",
       "      <td>пенсионер</td>\n",
       "      <td>0</td>\n",
       "      <td>158616.077870</td>\n",
       "      <td>сыграть свадьбу</td>\n",
       "    </tr>\n",
       "    <tr>\n",
       "      <th>5</th>\n",
       "      <td>0</td>\n",
       "      <td>-926.185831</td>\n",
       "      <td>27</td>\n",
       "      <td>высшее</td>\n",
       "      <td>0</td>\n",
       "      <td>гражданский брак</td>\n",
       "      <td>1</td>\n",
       "      <td>M</td>\n",
       "      <td>компаньон</td>\n",
       "      <td>0</td>\n",
       "      <td>255763.565419</td>\n",
       "      <td>покупка жилья</td>\n",
       "    </tr>\n",
       "    <tr>\n",
       "      <th>6</th>\n",
       "      <td>0</td>\n",
       "      <td>-2879.202052</td>\n",
       "      <td>43</td>\n",
       "      <td>высшее</td>\n",
       "      <td>0</td>\n",
       "      <td>женат / замужем</td>\n",
       "      <td>0</td>\n",
       "      <td>F</td>\n",
       "      <td>компаньон</td>\n",
       "      <td>0</td>\n",
       "      <td>240525.971920</td>\n",
       "      <td>операции с жильем</td>\n",
       "    </tr>\n",
       "    <tr>\n",
       "      <th>7</th>\n",
       "      <td>0</td>\n",
       "      <td>-152.779569</td>\n",
       "      <td>50</td>\n",
       "      <td>СРЕДНЕЕ</td>\n",
       "      <td>1</td>\n",
       "      <td>женат / замужем</td>\n",
       "      <td>0</td>\n",
       "      <td>M</td>\n",
       "      <td>сотрудник</td>\n",
       "      <td>0</td>\n",
       "      <td>135823.934197</td>\n",
       "      <td>образование</td>\n",
       "    </tr>\n",
       "    <tr>\n",
       "      <th>8</th>\n",
       "      <td>2</td>\n",
       "      <td>-6929.865299</td>\n",
       "      <td>35</td>\n",
       "      <td>ВЫСШЕЕ</td>\n",
       "      <td>0</td>\n",
       "      <td>гражданский брак</td>\n",
       "      <td>1</td>\n",
       "      <td>F</td>\n",
       "      <td>сотрудник</td>\n",
       "      <td>0</td>\n",
       "      <td>95856.832424</td>\n",
       "      <td>на проведение свадьбы</td>\n",
       "    </tr>\n",
       "    <tr>\n",
       "      <th>9</th>\n",
       "      <td>0</td>\n",
       "      <td>-2188.756445</td>\n",
       "      <td>41</td>\n",
       "      <td>среднее</td>\n",
       "      <td>1</td>\n",
       "      <td>женат / замужем</td>\n",
       "      <td>0</td>\n",
       "      <td>M</td>\n",
       "      <td>сотрудник</td>\n",
       "      <td>0</td>\n",
       "      <td>144425.938277</td>\n",
       "      <td>покупка жилья для семьи</td>\n",
       "    </tr>\n",
       "    <tr>\n",
       "      <th>10</th>\n",
       "      <td>2</td>\n",
       "      <td>-4171.483647</td>\n",
       "      <td>36</td>\n",
       "      <td>высшее</td>\n",
       "      <td>0</td>\n",
       "      <td>женат / замужем</td>\n",
       "      <td>0</td>\n",
       "      <td>M</td>\n",
       "      <td>компаньон</td>\n",
       "      <td>0</td>\n",
       "      <td>113943.491460</td>\n",
       "      <td>покупка недвижимости</td>\n",
       "    </tr>\n",
       "    <tr>\n",
       "      <th>11</th>\n",
       "      <td>0</td>\n",
       "      <td>-792.701887</td>\n",
       "      <td>40</td>\n",
       "      <td>среднее</td>\n",
       "      <td>1</td>\n",
       "      <td>женат / замужем</td>\n",
       "      <td>0</td>\n",
       "      <td>F</td>\n",
       "      <td>сотрудник</td>\n",
       "      <td>0</td>\n",
       "      <td>77069.234271</td>\n",
       "      <td>покупка коммерческой недвижимости</td>\n",
       "    </tr>\n",
       "    <tr>\n",
       "      <th>12</th>\n",
       "      <td>0</td>\n",
       "      <td>NaN</td>\n",
       "      <td>65</td>\n",
       "      <td>среднее</td>\n",
       "      <td>1</td>\n",
       "      <td>гражданский брак</td>\n",
       "      <td>1</td>\n",
       "      <td>M</td>\n",
       "      <td>пенсионер</td>\n",
       "      <td>0</td>\n",
       "      <td>NaN</td>\n",
       "      <td>сыграть свадьбу</td>\n",
       "    </tr>\n",
       "    <tr>\n",
       "      <th>13</th>\n",
       "      <td>0</td>\n",
       "      <td>-1846.641941</td>\n",
       "      <td>54</td>\n",
       "      <td>неоконченное высшее</td>\n",
       "      <td>2</td>\n",
       "      <td>женат / замужем</td>\n",
       "      <td>0</td>\n",
       "      <td>F</td>\n",
       "      <td>сотрудник</td>\n",
       "      <td>0</td>\n",
       "      <td>130458.228857</td>\n",
       "      <td>приобретение автомобиля</td>\n",
       "    </tr>\n",
       "    <tr>\n",
       "      <th>14</th>\n",
       "      <td>0</td>\n",
       "      <td>-1844.956182</td>\n",
       "      <td>56</td>\n",
       "      <td>высшее</td>\n",
       "      <td>0</td>\n",
       "      <td>гражданский брак</td>\n",
       "      <td>1</td>\n",
       "      <td>F</td>\n",
       "      <td>компаньон</td>\n",
       "      <td>1</td>\n",
       "      <td>165127.911772</td>\n",
       "      <td>покупка жилой недвижимости</td>\n",
       "    </tr>\n",
       "    <tr>\n",
       "      <th>15</th>\n",
       "      <td>1</td>\n",
       "      <td>-972.364419</td>\n",
       "      <td>26</td>\n",
       "      <td>среднее</td>\n",
       "      <td>1</td>\n",
       "      <td>женат / замужем</td>\n",
       "      <td>0</td>\n",
       "      <td>F</td>\n",
       "      <td>сотрудник</td>\n",
       "      <td>0</td>\n",
       "      <td>116820.904450</td>\n",
       "      <td>строительство собственной недвижимости</td>\n",
       "    </tr>\n",
       "    <tr>\n",
       "      <th>16</th>\n",
       "      <td>0</td>\n",
       "      <td>-1719.934226</td>\n",
       "      <td>35</td>\n",
       "      <td>среднее</td>\n",
       "      <td>1</td>\n",
       "      <td>женат / замужем</td>\n",
       "      <td>0</td>\n",
       "      <td>F</td>\n",
       "      <td>сотрудник</td>\n",
       "      <td>0</td>\n",
       "      <td>289202.704229</td>\n",
       "      <td>недвижимость</td>\n",
       "    </tr>\n",
       "    <tr>\n",
       "      <th>17</th>\n",
       "      <td>0</td>\n",
       "      <td>-2369.999720</td>\n",
       "      <td>33</td>\n",
       "      <td>высшее</td>\n",
       "      <td>0</td>\n",
       "      <td>гражданский брак</td>\n",
       "      <td>1</td>\n",
       "      <td>M</td>\n",
       "      <td>сотрудник</td>\n",
       "      <td>0</td>\n",
       "      <td>90410.586745</td>\n",
       "      <td>строительство недвижимости</td>\n",
       "    </tr>\n",
       "    <tr>\n",
       "      <th>18</th>\n",
       "      <td>0</td>\n",
       "      <td>400281.136913</td>\n",
       "      <td>53</td>\n",
       "      <td>среднее</td>\n",
       "      <td>1</td>\n",
       "      <td>вдовец / вдова</td>\n",
       "      <td>2</td>\n",
       "      <td>F</td>\n",
       "      <td>пенсионер</td>\n",
       "      <td>0</td>\n",
       "      <td>56823.777243</td>\n",
       "      <td>на покупку подержанного автомобиля</td>\n",
       "    </tr>\n",
       "    <tr>\n",
       "      <th>19</th>\n",
       "      <td>0</td>\n",
       "      <td>-10038.818549</td>\n",
       "      <td>48</td>\n",
       "      <td>СРЕДНЕЕ</td>\n",
       "      <td>1</td>\n",
       "      <td>в разводе</td>\n",
       "      <td>3</td>\n",
       "      <td>F</td>\n",
       "      <td>сотрудник</td>\n",
       "      <td>0</td>\n",
       "      <td>242831.107982</td>\n",
       "      <td>на покупку своего автомобиля</td>\n",
       "    </tr>\n",
       "  </tbody>\n",
       "</table>\n",
       "</div>"
      ],
      "text/plain": [
       "    children  days_employed  dob_years            education  education_id  \\\n",
       "0          1   -8437.673028         42               высшее             0   \n",
       "1          1   -4024.803754         36              среднее             1   \n",
       "2          0   -5623.422610         33              Среднее             1   \n",
       "3          3   -4124.747207         32              среднее             1   \n",
       "4          0  340266.072047         53              среднее             1   \n",
       "5          0    -926.185831         27               высшее             0   \n",
       "6          0   -2879.202052         43               высшее             0   \n",
       "7          0    -152.779569         50              СРЕДНЕЕ             1   \n",
       "8          2   -6929.865299         35               ВЫСШЕЕ             0   \n",
       "9          0   -2188.756445         41              среднее             1   \n",
       "10         2   -4171.483647         36               высшее             0   \n",
       "11         0    -792.701887         40              среднее             1   \n",
       "12         0            NaN         65              среднее             1   \n",
       "13         0   -1846.641941         54  неоконченное высшее             2   \n",
       "14         0   -1844.956182         56               высшее             0   \n",
       "15         1    -972.364419         26              среднее             1   \n",
       "16         0   -1719.934226         35              среднее             1   \n",
       "17         0   -2369.999720         33               высшее             0   \n",
       "18         0  400281.136913         53              среднее             1   \n",
       "19         0  -10038.818549         48              СРЕДНЕЕ             1   \n",
       "\n",
       "       family_status  family_status_id gender income_type  debt  \\\n",
       "0    женат / замужем                 0      F   сотрудник     0   \n",
       "1    женат / замужем                 0      F   сотрудник     0   \n",
       "2    женат / замужем                 0      M   сотрудник     0   \n",
       "3    женат / замужем                 0      M   сотрудник     0   \n",
       "4   гражданский брак                 1      F   пенсионер     0   \n",
       "5   гражданский брак                 1      M   компаньон     0   \n",
       "6    женат / замужем                 0      F   компаньон     0   \n",
       "7    женат / замужем                 0      M   сотрудник     0   \n",
       "8   гражданский брак                 1      F   сотрудник     0   \n",
       "9    женат / замужем                 0      M   сотрудник     0   \n",
       "10   женат / замужем                 0      M   компаньон     0   \n",
       "11   женат / замужем                 0      F   сотрудник     0   \n",
       "12  гражданский брак                 1      M   пенсионер     0   \n",
       "13   женат / замужем                 0      F   сотрудник     0   \n",
       "14  гражданский брак                 1      F   компаньон     1   \n",
       "15   женат / замужем                 0      F   сотрудник     0   \n",
       "16   женат / замужем                 0      F   сотрудник     0   \n",
       "17  гражданский брак                 1      M   сотрудник     0   \n",
       "18    вдовец / вдова                 2      F   пенсионер     0   \n",
       "19         в разводе                 3      F   сотрудник     0   \n",
       "\n",
       "     total_income                                 purpose  \n",
       "0   253875.639453                           покупка жилья  \n",
       "1   112080.014102                 приобретение автомобиля  \n",
       "2   145885.952297                           покупка жилья  \n",
       "3   267628.550329              дополнительное образование  \n",
       "4   158616.077870                         сыграть свадьбу  \n",
       "5   255763.565419                           покупка жилья  \n",
       "6   240525.971920                       операции с жильем  \n",
       "7   135823.934197                             образование  \n",
       "8    95856.832424                   на проведение свадьбы  \n",
       "9   144425.938277                 покупка жилья для семьи  \n",
       "10  113943.491460                    покупка недвижимости  \n",
       "11   77069.234271       покупка коммерческой недвижимости  \n",
       "12            NaN                         сыграть свадьбу  \n",
       "13  130458.228857                 приобретение автомобиля  \n",
       "14  165127.911772              покупка жилой недвижимости  \n",
       "15  116820.904450  строительство собственной недвижимости  \n",
       "16  289202.704229                            недвижимость  \n",
       "17   90410.586745              строительство недвижимости  \n",
       "18   56823.777243      на покупку подержанного автомобиля  \n",
       "19  242831.107982            на покупку своего автомобиля  "
      ]
     },
     "execution_count": 2,
     "metadata": {},
     "output_type": "execute_result"
    }
   ],
   "source": [
    "data.head(20)"
   ]
  },
  {
   "cell_type": "markdown",
   "id": "210631cf",
   "metadata": {
    "deletable": false,
    "editable": false,
    "id": "1c12e233"
   },
   "source": [
    "**Задание 3. Выведите основную информацию о датафрейме с помощью метода `info()`.**"
   ]
  },
  {
   "cell_type": "code",
   "execution_count": 3,
   "id": "edac4b68",
   "metadata": {
    "deletable": false,
    "id": "2b757bca",
    "outputId": "15376089-8dad-46c9-b520-c05248d43158"
   },
   "outputs": [
    {
     "name": "stdout",
     "output_type": "stream",
     "text": [
      "<class 'pandas.core.frame.DataFrame'>\n",
      "RangeIndex: 21525 entries, 0 to 21524\n",
      "Data columns (total 12 columns):\n",
      " #   Column            Non-Null Count  Dtype  \n",
      "---  ------            --------------  -----  \n",
      " 0   children          21525 non-null  int64  \n",
      " 1   days_employed     19351 non-null  float64\n",
      " 2   dob_years         21525 non-null  int64  \n",
      " 3   education         21525 non-null  object \n",
      " 4   education_id      21525 non-null  int64  \n",
      " 5   family_status     21525 non-null  object \n",
      " 6   family_status_id  21525 non-null  int64  \n",
      " 7   gender            21525 non-null  object \n",
      " 8   income_type       21525 non-null  object \n",
      " 9   debt              21525 non-null  int64  \n",
      " 10  total_income      19351 non-null  float64\n",
      " 11  purpose           21525 non-null  object \n",
      "dtypes: float64(2), int64(5), object(5)\n",
      "memory usage: 2.0+ MB\n"
     ]
    }
   ],
   "source": [
    "data.info()"
   ]
  },
  {
   "cell_type": "markdown",
   "id": "a3651a01",
   "metadata": {
    "deletable": false,
    "editable": false,
    "id": "333ec665"
   },
   "source": [
    "## Предобработка данных"
   ]
  },
  {
   "cell_type": "markdown",
   "id": "ed33c1c1",
   "metadata": {
    "deletable": false,
    "editable": false,
    "id": "02d92d53"
   },
   "source": [
    "### Удаление пропусков"
   ]
  },
  {
   "cell_type": "markdown",
   "id": "a1687cf6",
   "metadata": {
    "deletable": false,
    "editable": false,
    "id": "cd84967c"
   },
   "source": [
    "**Задание 4. Выведите количество пропущенных значений для каждого столбца. Используйте комбинацию двух методов.**"
   ]
  },
  {
   "cell_type": "code",
   "execution_count": 4,
   "id": "6c24f7b3",
   "metadata": {
    "deletable": false,
    "id": "7f9b2309",
    "outputId": "81f4d817-781c-465c-ed15-91ce4446810d"
   },
   "outputs": [
    {
     "data": {
      "text/plain": [
       "children               0\n",
       "days_employed       2174\n",
       "dob_years              0\n",
       "education              0\n",
       "education_id           0\n",
       "family_status          0\n",
       "family_status_id       0\n",
       "gender                 0\n",
       "income_type            0\n",
       "debt                   0\n",
       "total_income        2174\n",
       "purpose                0\n",
       "dtype: int64"
      ]
     },
     "execution_count": 4,
     "metadata": {},
     "output_type": "execute_result"
    }
   ],
   "source": [
    "data.isna().sum()"
   ]
  },
  {
   "cell_type": "markdown",
   "id": "1361e065",
   "metadata": {
    "deletable": false,
    "editable": false,
    "id": "db86e27b"
   },
   "source": [
    "**Задание 5. В двух столбцах есть пропущенные значения. Один из них — `days_employed`. Пропуски в этом столбце вы обработаете на следующем этапе. Другой столбец с пропущенными значениями — `total_income` — хранит данные о доходах. На сумму дохода сильнее всего влияет тип занятости, поэтому заполнить пропуски в этом столбце нужно медианным значением по каждому типу из столбца `income_type`. Например, у человека с типом занятости `сотрудник` пропуск в столбце `total_income` должен быть заполнен медианным доходом среди всех записей с тем же типом.**"
   ]
  },
  {
   "cell_type": "code",
   "execution_count": 5,
   "id": "f7f3a3c5",
   "metadata": {
    "deletable": false,
    "id": "42006a93"
   },
   "outputs": [],
   "source": [
    "for t in data['income_type'].unique():\n",
    "    data.loc[(data['income_type'] == t) & (data['total_income'].isna()), 'total_income'] = \\\n",
    "    data.loc[(data['income_type'] == t), 'total_income'].median()"
   ]
  },
  {
   "cell_type": "markdown",
   "id": "ab1d6eff",
   "metadata": {
    "deletable": false,
    "editable": false,
    "id": "89da5ece"
   },
   "source": [
    "### Обработка аномальных значений"
   ]
  },
  {
   "cell_type": "markdown",
   "id": "d738825e",
   "metadata": {
    "deletable": false,
    "editable": false,
    "id": "57964554"
   },
   "source": [
    "**Задание 6. В данных могут встречаться артефакты (аномалии) — значения, которые не отражают действительность и появились по какой-то ошибке. таким артефактом будет отрицательное количество дней трудового стажа в столбце `days_employed`. Для реальных данных это нормально. Обработайте значения в этом столбце: замените все отрицательные значения положительными с помощью метода `abs()`.**"
   ]
  },
  {
   "cell_type": "code",
   "execution_count": 6,
   "id": "0633abf6",
   "metadata": {
    "deletable": false,
    "id": "f6f055bf"
   },
   "outputs": [],
   "source": [
    "data['days_employed'] = data['days_employed'].abs()"
   ]
  },
  {
   "cell_type": "markdown",
   "id": "9de0a44a",
   "metadata": {
    "deletable": false,
    "editable": false,
    "id": "6107dd2f"
   },
   "source": [
    "**Задание 7. Для каждого типа занятости выведите медианное значение трудового стажа `days_employed` в днях.**"
   ]
  },
  {
   "cell_type": "code",
   "execution_count": 7,
   "id": "4ca87110",
   "metadata": {
    "deletable": false,
    "id": "85a5faf6",
    "outputId": "801ef80e-522b-4668-f34e-565af7432bcf"
   },
   "outputs": [
    {
     "data": {
      "text/plain": [
       "income_type\n",
       "безработный        366413.652744\n",
       "в декрете            3296.759962\n",
       "госслужащий          2689.368353\n",
       "компаньон            1547.382223\n",
       "пенсионер          365213.306266\n",
       "предприниматель       520.848083\n",
       "сотрудник            1574.202821\n",
       "студент               578.751554\n",
       "Name: days_employed, dtype: float64"
      ]
     },
     "execution_count": 7,
     "metadata": {},
     "output_type": "execute_result"
    }
   ],
   "source": [
    "data.groupby('income_type')['days_employed'].agg('median')"
   ]
  },
  {
   "cell_type": "markdown",
   "id": "145d98b7",
   "metadata": {
    "deletable": false,
    "editable": false,
    "id": "38d1a030"
   },
   "source": [
    "У двух типов (безработные и пенсионеры) получатся аномально большие значения. Исправить такие значения сложно, поэтому оставьте их как есть. Тем более этот столбец не понадобится вам для исследования."
   ]
  },
  {
   "cell_type": "markdown",
   "id": "ee3fb3bb",
   "metadata": {
    "deletable": false,
    "editable": false,
    "id": "d8a9f147"
   },
   "source": [
    "**Задание 8. Выведите перечень уникальных значений столбца `children`.**"
   ]
  },
  {
   "cell_type": "code",
   "execution_count": 8,
   "id": "1ab3275e",
   "metadata": {
    "deletable": false,
    "id": "ef5056eb",
    "outputId": "6975b15c-7f95-4697-d16d-a0c79b657b03"
   },
   "outputs": [
    {
     "data": {
      "text/plain": [
       "array([ 1,  0,  3,  2, -1,  4, 20,  5])"
      ]
     },
     "execution_count": 8,
     "metadata": {},
     "output_type": "execute_result"
    }
   ],
   "source": [
    "data['children'].unique()"
   ]
  },
  {
   "cell_type": "markdown",
   "id": "8725b4a0",
   "metadata": {
    "deletable": false,
    "editable": false,
    "id": "40b9ebf2"
   },
   "source": [
    "**Задание 9. В столбце `children` есть два аномальных значения. Удалите строки, в которых встречаются такие аномальные значения из датафрейма `data`.**"
   ]
  },
  {
   "cell_type": "code",
   "execution_count": 9,
   "id": "d67e2d9e",
   "metadata": {
    "deletable": false,
    "id": "3ff9801d"
   },
   "outputs": [],
   "source": [
    "data = data[(data['children'] != -1) & (data['children'] != 20)]"
   ]
  },
  {
   "cell_type": "markdown",
   "id": "759d2746",
   "metadata": {
    "deletable": false,
    "editable": false,
    "id": "bbc4d0ce"
   },
   "source": [
    "**Задание 10. Ещё раз выведите перечень уникальных значений столбца `children`, чтобы убедиться, что артефакты удалены.**"
   ]
  },
  {
   "cell_type": "code",
   "execution_count": 10,
   "id": "295ea4b8",
   "metadata": {
    "deletable": false,
    "id": "ad4fa8b7",
    "outputId": "b2097101-d49d-44d9-901b-32a65c9463d1"
   },
   "outputs": [
    {
     "data": {
      "text/plain": [
       "array([1, 0, 3, 2, 4, 5])"
      ]
     },
     "execution_count": 10,
     "metadata": {},
     "output_type": "execute_result"
    }
   ],
   "source": [
    "data['children'].unique()"
   ]
  },
  {
   "cell_type": "markdown",
   "id": "6cd530f4",
   "metadata": {
    "deletable": false,
    "editable": false,
    "id": "75440b63"
   },
   "source": [
    "### Удаление пропусков (продолжение)"
   ]
  },
  {
   "cell_type": "markdown",
   "id": "f88fa36b",
   "metadata": {
    "deletable": false,
    "editable": false,
    "id": "f4ea573f"
   },
   "source": [
    "**Задание 11. Заполните пропуски в столбце `days_employed` медианными значениями по каждого типа занятости `income_type`.**"
   ]
  },
  {
   "cell_type": "code",
   "execution_count": 11,
   "id": "872c0320",
   "metadata": {
    "deletable": false,
    "id": "af6b1a7e"
   },
   "outputs": [],
   "source": [
    "for t in data['income_type'].unique():\n",
    "    data.loc[(data['income_type'] == t) & (data['days_employed'].isna()), 'days_employed'] = \\\n",
    "    data.loc[(data['income_type'] == t), 'days_employed'].median()"
   ]
  },
  {
   "cell_type": "markdown",
   "id": "0b9fe46a",
   "metadata": {
    "deletable": false,
    "editable": false,
    "id": "2753f40d"
   },
   "source": [
    "**Задание 12. Убедитесь, что все пропуски заполнены. Проверьте себя и ещё раз выведите количество пропущенных значений для каждого столбца с помощью двух методов.**"
   ]
  },
  {
   "cell_type": "code",
   "execution_count": 12,
   "id": "891ed27c",
   "metadata": {
    "deletable": false,
    "id": "55f78bc2",
    "outputId": "8da1e4e1-358e-4e87-98c9-f261bce0a7b2"
   },
   "outputs": [
    {
     "data": {
      "text/plain": [
       "children            0\n",
       "days_employed       0\n",
       "dob_years           0\n",
       "education           0\n",
       "education_id        0\n",
       "family_status       0\n",
       "family_status_id    0\n",
       "gender              0\n",
       "income_type         0\n",
       "debt                0\n",
       "total_income        0\n",
       "purpose             0\n",
       "dtype: int64"
      ]
     },
     "execution_count": 12,
     "metadata": {},
     "output_type": "execute_result"
    }
   ],
   "source": [
    "data.isna().sum()"
   ]
  },
  {
   "cell_type": "markdown",
   "id": "fdbd953d",
   "metadata": {
    "deletable": false,
    "editable": false,
    "id": "ddc81e43"
   },
   "source": [
    "### Изменение типов данных"
   ]
  },
  {
   "cell_type": "markdown",
   "id": "64f657a1",
   "metadata": {
    "deletable": false,
    "editable": false,
    "id": "42d19d24"
   },
   "source": [
    "**Задание 13. Замените вещественный тип данных в столбце `total_income` на целочисленный с помощью метода `astype()`.**"
   ]
  },
  {
   "cell_type": "code",
   "execution_count": 13,
   "id": "fe142346",
   "metadata": {
    "deletable": false,
    "id": "920b65ad"
   },
   "outputs": [],
   "source": [
    "data['total_income'] = data['total_income'].astype(int)"
   ]
  },
  {
   "cell_type": "markdown",
   "id": "cbf5acf7",
   "metadata": {
    "deletable": false,
    "editable": false,
    "id": "80c420ba"
   },
   "source": [
    "### Обработка дубликатов"
   ]
  },
  {
   "cell_type": "markdown",
   "id": "29cf903f",
   "metadata": {
    "deletable": false,
    "editable": false
   },
   "source": [
    "**Задание 14. Обработайте неявные дубликаты в столбце `education`. В этом столбце есть одни и те же значения, но записанные по-разному: с использованием заглавных и строчных букв. Приведите их к нижнему регистру. Проверьте остальные столбцы.**"
   ]
  },
  {
   "cell_type": "code",
   "execution_count": 14,
   "id": "82b48913",
   "metadata": {
    "deletable": false
   },
   "outputs": [],
   "source": [
    "data['education'] = data['education'].str.lower()"
   ]
  },
  {
   "cell_type": "markdown",
   "id": "281efd9f",
   "metadata": {
    "deletable": false,
    "editable": false,
    "id": "dc587695"
   },
   "source": [
    "**Задание 15. Выведите на экран количество строк-дубликатов в данных. Если такие строки присутствуют, удалите их.**"
   ]
  },
  {
   "cell_type": "code",
   "execution_count": 15,
   "id": "84130779",
   "metadata": {
    "deletable": false,
    "id": "3ee445e4",
    "outputId": "9684deba-1934-42d1-99e1-cda61740f822"
   },
   "outputs": [
    {
     "data": {
      "text/plain": [
       "71"
      ]
     },
     "execution_count": 15,
     "metadata": {},
     "output_type": "execute_result"
    }
   ],
   "source": [
    "data.duplicated().sum()"
   ]
  },
  {
   "cell_type": "code",
   "execution_count": 16,
   "id": "66618f70",
   "metadata": {
    "deletable": false,
    "id": "8575fe05"
   },
   "outputs": [],
   "source": [
    "data = data.drop_duplicates()"
   ]
  },
  {
   "cell_type": "markdown",
   "id": "febcc62e",
   "metadata": {
    "deletable": false,
    "editable": false,
    "id": "9904cf55"
   },
   "source": [
    "### Категоризация данных"
   ]
  },
  {
   "cell_type": "markdown",
   "id": "f7c7f93b",
   "metadata": {
    "deletable": false,
    "editable": false,
    "id": "72fcc8a2"
   },
   "source": [
    "**Задание 16. На основании диапазонов, указанных ниже, создайте в датафрейме `data` столбец `total_income_category` с категориями:**\n",
    "\n",
    "- 0–30000 — `'E'`;\n",
    "- 30001–50000 — `'D'`;\n",
    "- 50001–200000 — `'C'`;\n",
    "- 200001–1000000 — `'B'`;\n",
    "- 1000001 и выше — `'A'`.\n",
    "\n",
    "\n",
    "**Например, кредитополучателю с доходом 25000 нужно назначить категорию `'E'`, а клиенту, получающему 235000, — `'B'`. Используйте собственную функцию с именем `categorize_income()` и метод `apply()`.**"
   ]
  },
  {
   "cell_type": "code",
   "execution_count": 17,
   "id": "1c77dbfd",
   "metadata": {
    "deletable": false,
    "id": "e1771346"
   },
   "outputs": [],
   "source": [
    "def categorize_income(income):\n",
    "    try:\n",
    "        if 0 <= income <= 30000:\n",
    "            return 'E'\n",
    "        elif 30001 <= income <= 50000:\n",
    "            return 'D'\n",
    "        elif 50001 <= income <= 200000:\n",
    "            return 'C'\n",
    "        elif 200001 <= income <= 1000000:\n",
    "            return 'B'\n",
    "        elif income >= 1000001:\n",
    "            return 'A'\n",
    "    except:\n",
    "        pass"
   ]
  },
  {
   "cell_type": "code",
   "execution_count": 18,
   "id": "b7253594",
   "metadata": {
    "deletable": false,
    "id": "d5f3586d"
   },
   "outputs": [],
   "source": [
    "data['total_income_category'] = data['total_income'].apply(categorize_income)"
   ]
  },
  {
   "cell_type": "markdown",
   "id": "7a572d61",
   "metadata": {
    "deletable": false,
    "editable": false,
    "id": "dde49b5c"
   },
   "source": [
    "**Задание 17. Выведите на экран перечень уникальных целей взятия кредита из столбца `purpose`.**"
   ]
  },
  {
   "cell_type": "code",
   "execution_count": 19,
   "id": "dfa72a93",
   "metadata": {
    "deletable": false,
    "id": "f67ce9b3",
    "outputId": "673c12d9-7d7e-4ae0-9812-c622c89dd244"
   },
   "outputs": [
    {
     "data": {
      "text/plain": [
       "array(['покупка жилья', 'приобретение автомобиля',\n",
       "       'дополнительное образование', 'сыграть свадьбу',\n",
       "       'операции с жильем', 'образование', 'на проведение свадьбы',\n",
       "       'покупка жилья для семьи', 'покупка недвижимости',\n",
       "       'покупка коммерческой недвижимости', 'покупка жилой недвижимости',\n",
       "       'строительство собственной недвижимости', 'недвижимость',\n",
       "       'строительство недвижимости', 'на покупку подержанного автомобиля',\n",
       "       'на покупку своего автомобиля',\n",
       "       'операции с коммерческой недвижимостью',\n",
       "       'строительство жилой недвижимости', 'жилье',\n",
       "       'операции со своей недвижимостью', 'автомобили',\n",
       "       'заняться образованием', 'сделка с подержанным автомобилем',\n",
       "       'получение образования', 'автомобиль', 'свадьба',\n",
       "       'получение дополнительного образования', 'покупка своего жилья',\n",
       "       'операции с недвижимостью', 'получение высшего образования',\n",
       "       'свой автомобиль', 'сделка с автомобилем',\n",
       "       'профильное образование', 'высшее образование',\n",
       "       'покупка жилья для сдачи', 'на покупку автомобиля', 'ремонт жилью',\n",
       "       'заняться высшим образованием'], dtype=object)"
      ]
     },
     "execution_count": 19,
     "metadata": {},
     "output_type": "execute_result"
    }
   ],
   "source": [
    "data['purpose'].unique()"
   ]
  },
  {
   "cell_type": "markdown",
   "id": "81ca3cc1",
   "metadata": {
    "deletable": false,
    "editable": false,
    "id": "85d0aef0"
   },
   "source": [
    "**Задание 18. Создайте функцию, которая на основании данных из столбца `purpose` сформирует новый столбец `purpose_category`, в который войдут следующие категории:**\n",
    "\n",
    "- `'операции с автомобилем'`,\n",
    "- `'операции с недвижимостью'`,\n",
    "- `'проведение свадьбы'`,\n",
    "- `'получение образования'`.\n",
    "\n",
    "**Например, если в столбце `purpose` находится подстрока `'на покупку автомобиля'`, то в столбце `purpose_category` должна появиться строка `'операции с автомобилем'`.**\n",
    "\n",
    "**Используйте собственную функцию с именем `categorize_purpose()` и метод `apply()`. Изучите данные в столбце `purpose` и определите, какие подстроки помогут вам правильно определить категорию.**"
   ]
  },
  {
   "cell_type": "code",
   "execution_count": 20,
   "id": "5e119981",
   "metadata": {
    "deletable": false,
    "id": "e149fab4"
   },
   "outputs": [],
   "source": [
    "def categorize_purpose(row):\n",
    "    try:\n",
    "        if 'автом' in row:\n",
    "            return 'операции с автомобилем'\n",
    "        elif 'жил' in row or 'недвиж' in row:\n",
    "            return 'операции с недвижимостью'\n",
    "        elif 'свад' in row:\n",
    "            return 'проведение свадьбы'\n",
    "        elif 'образов' in row:\n",
    "            return 'получение образования'\n",
    "    except:\n",
    "        return 'нет категории'"
   ]
  },
  {
   "cell_type": "code",
   "execution_count": 21,
   "id": "45361166",
   "metadata": {
    "deletable": false,
    "id": "bf36e69b"
   },
   "outputs": [],
   "source": [
    "data['purpose_category'] = data['purpose'].apply(categorize_purpose)"
   ]
  },
  {
   "cell_type": "markdown",
   "id": "8fbf0256",
   "metadata": {
    "deletable": false,
    "editable": false,
    "id": "09b242bf"
   },
   "source": [
    "### Шаг 3. Исследуйте данные и ответьте на вопросы"
   ]
  },
  {
   "cell_type": "markdown",
   "id": "a94f767a",
   "metadata": {
    "deletable": false,
    "editable": false,
    "id": "c5d66278"
   },
   "source": [
    "#### 3.1 Есть ли зависимость между количеством детей и возвратом кредита в срок?"
   ]
  },
  {
   "cell_type": "code",
   "execution_count": 22,
   "id": "99453fa1",
   "metadata": {
    "deletable": false,
    "id": "2cacfc4a"
   },
   "outputs": [
    {
     "data": {
      "text/html": [
       "<div>\n",
       "<style scoped>\n",
       "    .dataframe tbody tr th:only-of-type {\n",
       "        vertical-align: middle;\n",
       "    }\n",
       "\n",
       "    .dataframe tbody tr th {\n",
       "        vertical-align: top;\n",
       "    }\n",
       "\n",
       "    .dataframe thead th {\n",
       "        text-align: right;\n",
       "    }\n",
       "</style>\n",
       "<table border=\"1\" class=\"dataframe\">\n",
       "  <thead>\n",
       "    <tr style=\"text-align: right;\">\n",
       "      <th></th>\n",
       "      <th>Количество записей</th>\n",
       "      <th>Среднее</th>\n",
       "    </tr>\n",
       "    <tr>\n",
       "      <th>children</th>\n",
       "      <th></th>\n",
       "      <th></th>\n",
       "    </tr>\n",
       "  </thead>\n",
       "  <tbody>\n",
       "    <tr>\n",
       "      <th>0</th>\n",
       "      <td>14091</td>\n",
       "      <td>7.54%</td>\n",
       "    </tr>\n",
       "    <tr>\n",
       "      <th>1</th>\n",
       "      <td>4808</td>\n",
       "      <td>9.23%</td>\n",
       "    </tr>\n",
       "    <tr>\n",
       "      <th>2</th>\n",
       "      <td>2052</td>\n",
       "      <td>9.45%</td>\n",
       "    </tr>\n",
       "    <tr>\n",
       "      <th>3</th>\n",
       "      <td>330</td>\n",
       "      <td>8.18%</td>\n",
       "    </tr>\n",
       "    <tr>\n",
       "      <th>4</th>\n",
       "      <td>41</td>\n",
       "      <td>9.76%</td>\n",
       "    </tr>\n",
       "    <tr>\n",
       "      <th>5</th>\n",
       "      <td>9</td>\n",
       "      <td>0.00%</td>\n",
       "    </tr>\n",
       "  </tbody>\n",
       "</table>\n",
       "</div>"
      ],
      "text/plain": [
       "          Количество записей Среднее\n",
       "children                            \n",
       "0                      14091   7.54%\n",
       "1                       4808   9.23%\n",
       "2                       2052   9.45%\n",
       "3                        330   8.18%\n",
       "4                         41   9.76%\n",
       "5                          9   0.00%"
      ]
     },
     "execution_count": 22,
     "metadata": {},
     "output_type": "execute_result"
    }
   ],
   "source": [
    "#Строим сводную таблицу где указываем средний процент задолжености по кредитам \n",
    "children_ratio = data.pivot_table(index = ['children'], values = 'debt', aggfunc = ('mean', lambda X: X.count()))\n",
    "# Через функцию оставляем только два знака после запятой, для упрощения восприятия данных\n",
    "def percent(x):\n",
    "    return \"{0:.2%}\".format(x)\n",
    "\n",
    "children_ratio['mean'] = children_ratio['mean'].apply(percent)\n",
    "children_ratio[\"<lambda_0>\"] = children_ratio[\"<lambda_0>\"].astype(int)\n",
    "children_ratio = children_ratio.rename(columns={\"<lambda_0>\": \"Количество записей\", \"mean\": \"Среднее\"})\n",
    "children_ratio"
   ]
  },
  {
   "cell_type": "markdown",
   "id": "1b77f713",
   "metadata": {
    "deletable": false,
    "id": "3a6b99ec"
   },
   "source": [
    "**Вывод:**\n",
    "\n",
    "Зависимость между сроком возврата кредитов и количестовм детей присутствует: На первом месте расположились клиенты которые не имеют детей, они чаще всех выплачивают кредиты в срок, связанно это может быть с тем, что у них нет дополнительноый расходной статьи на содержание детей. На втором месте расположились семьи с 3 детьми, скорее всего эти семьи уже имеют достаточно опыта воспитаний детей и распределния расходов и планирования бюджета, чем семьи с 1 или 2 детьми. На 3, 4 и 5 месте соответственно расположились с семьи с 1,2 и 4 детьми соответствено, скорее всего семьи с 1 или 2 детьми еще не имеют достаточно опыта ведение семейного бюджета и соответственно не выплачивают кредит в срок. Однако семьи с 5 детьми возвращают все кредиты в срок, но я думаю что здесь просто слишком маленькая выборка, по количеству таких семей.\n",
    "\n",
    "Так же стоит посчитать разницу между максимальным и минимальным средним значений для того что бы выявить на какие категории стоит больше всего обратить свое внимание клиенту.\n",
    "\n",
    "Здесь она составляет 22,74%"
   ]
  },
  {
   "cell_type": "markdown",
   "id": "97f12228",
   "metadata": {
    "deletable": false,
    "editable": false,
    "id": "97be82ca"
   },
   "source": [
    "#### 3.2 Есть ли зависимость между семейным положением и возвратом кредита в срок?"
   ]
  },
  {
   "cell_type": "code",
   "execution_count": 23,
   "id": "82d99ed4",
   "metadata": {},
   "outputs": [
    {
     "data": {
      "text/html": [
       "<div>\n",
       "<style scoped>\n",
       "    .dataframe tbody tr th:only-of-type {\n",
       "        vertical-align: middle;\n",
       "    }\n",
       "\n",
       "    .dataframe tbody tr th {\n",
       "        vertical-align: top;\n",
       "    }\n",
       "\n",
       "    .dataframe thead th {\n",
       "        text-align: right;\n",
       "    }\n",
       "</style>\n",
       "<table border=\"1\" class=\"dataframe\">\n",
       "  <thead>\n",
       "    <tr style=\"text-align: right;\">\n",
       "      <th></th>\n",
       "      <th>Количество записей</th>\n",
       "      <th>Среднее</th>\n",
       "    </tr>\n",
       "    <tr>\n",
       "      <th>family_status</th>\n",
       "      <th></th>\n",
       "      <th></th>\n",
       "    </tr>\n",
       "  </thead>\n",
       "  <tbody>\n",
       "    <tr>\n",
       "      <th>Не женат / не замужем</th>\n",
       "      <td>2796</td>\n",
       "      <td>9.76%</td>\n",
       "    </tr>\n",
       "    <tr>\n",
       "      <th>гражданский брак</th>\n",
       "      <td>4134</td>\n",
       "      <td>9.31%</td>\n",
       "    </tr>\n",
       "    <tr>\n",
       "      <th>женат / замужем</th>\n",
       "      <td>12261</td>\n",
       "      <td>7.56%</td>\n",
       "    </tr>\n",
       "    <tr>\n",
       "      <th>в разводе</th>\n",
       "      <td>1189</td>\n",
       "      <td>7.06%</td>\n",
       "    </tr>\n",
       "    <tr>\n",
       "      <th>вдовец / вдова</th>\n",
       "      <td>951</td>\n",
       "      <td>6.62%</td>\n",
       "    </tr>\n",
       "  </tbody>\n",
       "</table>\n",
       "</div>"
      ],
      "text/plain": [
       "                       Количество записей Среднее\n",
       "family_status                                    \n",
       "Не женат / не замужем                2796   9.76%\n",
       "гражданский брак                     4134   9.31%\n",
       "женат / замужем                     12261   7.56%\n",
       "в разводе                            1189   7.06%\n",
       "вдовец / вдова                        951   6.62%"
      ]
     },
     "execution_count": 23,
     "metadata": {},
     "output_type": "execute_result"
    }
   ],
   "source": [
    "#Строим сводную таблицу где указываем средний процент задолжености по кредитам \n",
    "family_status_ratio = data.pivot_table(index = ['family_status'], values = 'debt', aggfunc = ('mean', lambda X: X.count()))\n",
    "# Через функцию оставляем только два знака после запятой, для упрощения восприятия данных\n",
    "def percent(x):\n",
    "    return \"{0:.2%}\".format(x)\n",
    "\n",
    "family_status_ratio['mean'] = family_status_ratio['mean'].apply(percent)\n",
    "family_status_ratio[\"<lambda_0>\"] = family_status_ratio[\"<lambda_0>\"].astype(int)\n",
    "family_status_ratio = family_status_ratio.rename(columns={\"<lambda_0>\": \"Количество записей\", \"mean\": \"Среднее\"})\n",
    "family_status_ratio.sort_values(by='Среднее', ascending=False)\n"
   ]
  },
  {
   "cell_type": "markdown",
   "id": "72f34d76",
   "metadata": {},
   "source": [
    "**Вывод:**\n",
    "\n",
    "Самыми ответственными в данном случае оказались вдовец вдова, скорее всего это связано с тем, что редко такой статус получают молодые люди. Соответственно люди уже имеют достаточный опыт ведения бюджета и чаще выплачивают кредиты вовремя.\n",
    "\n",
    "Разница между максимальным и минимальным средним значением составляет 32,17 %"
   ]
  },
  {
   "cell_type": "markdown",
   "id": "ca1f580d",
   "metadata": {
    "deletable": false,
    "editable": false,
    "id": "1e8b2fca"
   },
   "source": [
    "#### 3.3 Есть ли зависимость между уровнем дохода и возвратом кредита в срок?"
   ]
  },
  {
   "cell_type": "code",
   "execution_count": 24,
   "id": "8590f40d",
   "metadata": {},
   "outputs": [
    {
     "data": {
      "text/html": [
       "<div>\n",
       "<style scoped>\n",
       "    .dataframe tbody tr th:only-of-type {\n",
       "        vertical-align: middle;\n",
       "    }\n",
       "\n",
       "    .dataframe tbody tr th {\n",
       "        vertical-align: top;\n",
       "    }\n",
       "\n",
       "    .dataframe thead th {\n",
       "        text-align: right;\n",
       "    }\n",
       "</style>\n",
       "<table border=\"1\" class=\"dataframe\">\n",
       "  <thead>\n",
       "    <tr style=\"text-align: right;\">\n",
       "      <th></th>\n",
       "      <th>Количество записей</th>\n",
       "      <th>Среднее</th>\n",
       "    </tr>\n",
       "    <tr>\n",
       "      <th>total_income_category</th>\n",
       "      <th></th>\n",
       "      <th></th>\n",
       "    </tr>\n",
       "  </thead>\n",
       "  <tbody>\n",
       "    <tr>\n",
       "      <th>E</th>\n",
       "      <td>22</td>\n",
       "      <td>9.09%</td>\n",
       "    </tr>\n",
       "    <tr>\n",
       "      <th>C</th>\n",
       "      <td>15921</td>\n",
       "      <td>8.50%</td>\n",
       "    </tr>\n",
       "    <tr>\n",
       "      <th>A</th>\n",
       "      <td>25</td>\n",
       "      <td>8.00%</td>\n",
       "    </tr>\n",
       "    <tr>\n",
       "      <th>B</th>\n",
       "      <td>5014</td>\n",
       "      <td>7.06%</td>\n",
       "    </tr>\n",
       "    <tr>\n",
       "      <th>D</th>\n",
       "      <td>349</td>\n",
       "      <td>6.02%</td>\n",
       "    </tr>\n",
       "  </tbody>\n",
       "</table>\n",
       "</div>"
      ],
      "text/plain": [
       "                       Количество записей Среднее\n",
       "total_income_category                            \n",
       "E                                      22   9.09%\n",
       "C                                   15921   8.50%\n",
       "A                                      25   8.00%\n",
       "B                                    5014   7.06%\n",
       "D                                     349   6.02%"
      ]
     },
     "execution_count": 24,
     "metadata": {},
     "output_type": "execute_result"
    }
   ],
   "source": [
    "#Строим сводную таблицу где указываем средний процент задолжености по кредитам \n",
    "total_income_category_ratio = data.pivot_table(index = ['total_income_category'], values = 'debt', aggfunc = ('mean', lambda X: X.count()))\n",
    "# Через функцию оставляем только два знака после запятой, для упрощения восприятия данных\n",
    "def percent(x):\n",
    "    return \"{0:.2%}\".format(x)\n",
    "\n",
    "total_income_category_ratio['mean'] = total_income_category_ratio['mean'].apply(percent)\n",
    "total_income_category_ratio[\"<lambda_0>\"] = total_income_category_ratio[\"<lambda_0>\"].astype(int)\n",
    "total_income_category_ratio = total_income_category_ratio.rename(columns={\"<lambda_0>\": \"Количество записей\", \"mean\": \"Среднее\"})\n",
    "total_income_category_ratio.sort_values(by='Среднее', ascending=False)"
   ]
  },
  {
   "cell_type": "markdown",
   "id": "80a5ca11",
   "metadata": {
    "deletable": false,
    "id": "1cef7837"
   },
   "source": [
    "**Вывод:** Для начала вспомним обозначения категорий A,B,C,D,E которые мы ввели ранее:\n",
    "\n",
    "* Категория **А** доход свыше 1 000 000;\n",
    "* Категория **B** доход от 200 000 до  1 000 000;\n",
    "* Категория **C** доход от 50 000 до 200 000;\n",
    "* Категория **D** доход от 30 000 до  50 000;\n",
    "* Категория **E** доход до 30 000.\n",
    "\n",
    "Так как во всех категориях кроме B и С количество заемщиков несопоставимо меньше проанализируем именны эти категории. Тут прослеживается законномерность, чем выше доход клиента тем чаще он возвращает кредит в срок, скорее всего это связано с тем, что чем выше доход людей тем они грамотнее распоряжаются своими деньгами планирую свой бюджет, и понимают что просрочки кредита может повлечь за собой дополнительные траты.\n",
    "\n",
    "Разница между максимальным и минимальным средним значением составляет 16,94%\n"
   ]
  },
  {
   "cell_type": "markdown",
   "id": "a0a5dcc9",
   "metadata": {
    "deletable": false,
    "editable": false,
    "id": "99ecbd1f"
   },
   "source": [
    "#### 3.4 Как разные цели кредита влияют на его возврат в срок?"
   ]
  },
  {
   "cell_type": "code",
   "execution_count": 25,
   "id": "06072501",
   "metadata": {
    "deletable": false,
    "id": "dc3f7ee8",
    "scrolled": true
   },
   "outputs": [
    {
     "data": {
      "text/html": [
       "<div>\n",
       "<style scoped>\n",
       "    .dataframe tbody tr th:only-of-type {\n",
       "        vertical-align: middle;\n",
       "    }\n",
       "\n",
       "    .dataframe tbody tr th {\n",
       "        vertical-align: top;\n",
       "    }\n",
       "\n",
       "    .dataframe thead th {\n",
       "        text-align: right;\n",
       "    }\n",
       "</style>\n",
       "<table border=\"1\" class=\"dataframe\">\n",
       "  <thead>\n",
       "    <tr style=\"text-align: right;\">\n",
       "      <th></th>\n",
       "      <th>Количество записей</th>\n",
       "      <th>Среднее</th>\n",
       "    </tr>\n",
       "    <tr>\n",
       "      <th>purpose_category</th>\n",
       "      <th></th>\n",
       "      <th></th>\n",
       "    </tr>\n",
       "  </thead>\n",
       "  <tbody>\n",
       "    <tr>\n",
       "      <th>операции с автомобилем</th>\n",
       "      <td>4279</td>\n",
       "      <td>9.35%</td>\n",
       "    </tr>\n",
       "    <tr>\n",
       "      <th>получение образования</th>\n",
       "      <td>3988</td>\n",
       "      <td>9.25%</td>\n",
       "    </tr>\n",
       "    <tr>\n",
       "      <th>проведение свадьбы</th>\n",
       "      <td>2313</td>\n",
       "      <td>7.91%</td>\n",
       "    </tr>\n",
       "    <tr>\n",
       "      <th>операции с недвижимостью</th>\n",
       "      <td>10751</td>\n",
       "      <td>7.26%</td>\n",
       "    </tr>\n",
       "  </tbody>\n",
       "</table>\n",
       "</div>"
      ],
      "text/plain": [
       "                          Количество записей Среднее\n",
       "purpose_category                                    \n",
       "операции с автомобилем                  4279   9.35%\n",
       "получение образования                   3988   9.25%\n",
       "проведение свадьбы                      2313   7.91%\n",
       "операции с недвижимостью               10751   7.26%"
      ]
     },
     "execution_count": 25,
     "metadata": {},
     "output_type": "execute_result"
    }
   ],
   "source": [
    "#Строим сводную таблицу где указываем средний процент задолжености по кредитам \n",
    "purpose_category_ratio = data.pivot_table(index = ['purpose_category'], values = 'debt', aggfunc = ('mean', lambda X: X.count()))\n",
    "# Через функцию оставляем только два знака после запятой, для упрощения восприятия данных\n",
    "def percent(x):\n",
    "    return \"{0:.2%}\".format(x)\n",
    "\n",
    "purpose_category_ratio['mean'] = purpose_category_ratio['mean'].apply(percent)\n",
    "purpose_category_ratio[\"<lambda_0>\"] = purpose_category_ratio[\"<lambda_0>\"].astype(int)\n",
    "purpose_category_ratio = purpose_category_ratio.rename(columns={\"<lambda_0>\": \"Количество записей\", \"mean\": \"Среднее\"})\n",
    "purpose_category_ratio.sort_values(by='Среднее', ascending=False)"
   ]
  },
  {
   "cell_type": "markdown",
   "id": "9fd74172",
   "metadata": {
    "deletable": false,
    "id": "cd7e3720"
   },
   "source": [
    "**Вывод:** Чаще всего в срок оплачивают кредиты связанные с недвижимостью, это может быть связано с тем что данная покупкка зачастую является самой дорогостоязщей и люди подходят к ней ответственно и заранее планируют свой бюджет, к тому же просрочка по данному кредиту влечет за собой серьезные последствия.\n",
    "\n",
    "Разница между максимальным и минимальным средним значением составляет 22,03 %"
   ]
  },
  {
   "cell_type": "markdown",
   "id": "09b90674",
   "metadata": {
    "deletable": false,
    "id": "b4bb2ce6"
   },
   "source": [
    " "
   ]
  },
  {
   "cell_type": "markdown",
   "id": "3b9fbe95",
   "metadata": {
    "deletable": false,
    "editable": false,
    "id": "09c3ac4c"
   },
   "source": [
    "#### 3.5 Приведите возможные причины появления пропусков в исходных данных."
   ]
  },
  {
   "cell_type": "markdown",
   "id": "69be5299",
   "metadata": {
    "deletable": false,
    "id": "9da2ceda"
   },
   "source": [
    "**Ответ:** Скорее всего пропуски могут возникать при заполнение анкеты, либо люди могли не желать оставить данные о своей зарплате и трудовом стаже. \n",
    "\n",
    "\n",
    "Также причиной мог быть технический сбой \n"
   ]
  },
  {
   "cell_type": "markdown",
   "id": "615a0c23",
   "metadata": {
    "deletable": false,
    "editable": false,
    "id": "7b0487d6"
   },
   "source": [
    "#### 3.6 Объясните, почему заполнить пропуски медианным значением — лучшее решение для количественных переменных."
   ]
  },
  {
   "cell_type": "markdown",
   "id": "3bded8c9",
   "metadata": {
    "deletable": false,
    "id": "7ecf2b8e"
   },
   "source": [
    "**Ответ:**  Так как категория тех данных в которых были про\n",
    "пуски являются колличественными переменами, удаление строк с пропускоми повлекло бы потерю огромного пласта данных. А \n",
    "так как медиана определяет центр распределения, т.е. область, в которой его значения наиболее вероятны. Пропуски были в колонках трудового стажа, и дохода соответственно пропуски были заполнены медианой по группам, результаты ислледования не сильно изменятся если вставить туда медианные значения\n"
   ]
  },
  {
   "cell_type": "markdown",
   "id": "9f392608",
   "metadata": {
    "deletable": false,
    "editable": false,
    "id": "6db5255a"
   },
   "source": [
    "### Шаг 4: общий вывод."
   ]
  },
  {
   "cell_type": "markdown",
   "id": "6278e29b",
   "metadata": {},
   "source": [
    "Проанализировав предложенные данные мы получили следующий результат:\n",
    "1. В таблице были допущены пропуски, которые мы устранили за счет медианных значений этих колонок\n",
    "2. Так же мы сгруппировали некоторые данные по уровню дохода присвоив им определенные буквенные выражения, а также сгруппировали цели на получения кредитов для улучщения восприятия данных\n",
    "3. Были удаленны дублирующиеся значения \n",
    "\n",
    "\n",
    "Кроме того был проведен анализ влияет ли: уровень дохода, количество детей, семейное положение и цель кредита на сроки возрахения кредита. Оказалось, что все эти факторы влияют на то возвращает ли заемщик кредит в срок. Для выявления той категории, которые больше всего влияют на возврат кредитов в срок,  был проведен расчет между максимальным и минимальным значением средний. Результаты следующие:  \n",
    "1. Семейное положение - 32, 17 %\n",
    "2. Количество детей - 22, 74 %\n",
    "3. Цель кредита - 22,03 %\n",
    "4. Уровень дохода - 16, 94 %\n",
    "\n",
    "Таким образом рекомендую банку обратить внимание на в первую очередь на семейное положение заемщика, а уже затем на количество детейЮ цель кредита и уровень дохода.\n",
    "\n"
   ]
 "metadata": {
  "ExecuteTimeLog": [
   {
    "duration": 50,
    "start_time": "2022-11-11T09:06:51.690Z"
   },
   {
    "duration": 672,
    "start_time": "2022-11-11T09:06:58.317Z"
   },
   {
    "duration": 21,
    "start_time": "2022-11-11T09:06:59.199Z"
   },
   {
    "duration": 14,
    "start_time": "2022-11-11T09:06:59.761Z"
   },
   {
    "duration": 11,
    "start_time": "2022-11-11T09:07:00.544Z"
   },
   {
    "duration": 35,
    "start_time": "2022-11-11T09:07:00.957Z"
   },
   {
    "duration": 4,
    "start_time": "2022-11-11T09:07:01.523Z"
   },
   {
    "duration": 9,
    "start_time": "2022-11-11T09:07:01.920Z"
   },
   {
    "duration": 5,
    "start_time": "2022-11-11T09:07:02.515Z"
   },
   {
    "duration": 8,
    "start_time": "2022-11-11T09:07:02.922Z"
   },
   {
    "duration": 5,
    "start_time": "2022-11-11T09:07:03.299Z"
   },
   {
    "duration": 33,
    "start_time": "2022-11-11T09:07:03.878Z"
   },
   {
    "duration": 9,
    "start_time": "2022-11-11T09:07:04.235Z"
   },
   {
    "duration": 3,
    "start_time": "2022-11-11T09:07:04.818Z"
   },
   {
    "duration": 10,
    "start_time": "2022-11-11T09:07:05.427Z"
   },
   {
    "duration": 19,
    "start_time": "2022-11-11T09:07:05.809Z"
   },
   {
    "duration": 25,
    "start_time": "2022-11-11T09:07:05.995Z"
   },
   {
    "duration": 3,
    "start_time": "2022-11-11T09:07:06.696Z"
   },
   {
    "duration": 9,
    "start_time": "2022-11-11T09:07:06.898Z"
   },
   {
    "duration": 6,
    "start_time": "2022-11-11T09:07:07.343Z"
   },
   {
    "duration": 4,
    "start_time": "2022-11-11T09:07:08.481Z"
   },
   {
    "duration": 9,
    "start_time": "2022-11-11T09:07:08.778Z"
   },
   {
    "duration": 4,
    "start_time": "2022-11-11T09:07:10.038Z"
   },
   {
    "duration": 8,
    "start_time": "2022-11-11T09:14:46.652Z"
   },
   {
    "duration": 12,
    "start_time": "2022-11-11T09:14:59.142Z"
   },
   {
    "duration": 38,
    "start_time": "2022-11-11T09:19:09.897Z"
   },
   {
    "duration": 13,
    "start_time": "2022-11-11T09:19:24.352Z"
   },
   {
    "duration": 932,
    "start_time": "2022-11-11T09:25:49.896Z"
   },
   {
    "duration": 358,
    "start_time": "2022-11-11T09:26:14.834Z"
   },
   {
    "duration": 323,
    "start_time": "2022-11-11T09:35:35.553Z"
   },
   {
    "duration": 364,
    "start_time": "2022-11-11T09:36:23.305Z"
   },
   {
    "duration": 15,
    "start_time": "2022-11-11T09:36:45.468Z"
   },
   {
    "duration": 24,
    "start_time": "2022-11-11T09:37:25.695Z"
   },
   {
    "duration": 9,
    "start_time": "2022-11-11T09:38:43.977Z"
   },
   {
    "duration": 13,
    "start_time": "2022-11-11T09:38:52.176Z"
   },
   {
    "duration": 18,
    "start_time": "2022-11-11T09:39:05.703Z"
   },
   {
    "duration": 21,
    "start_time": "2022-11-11T09:39:16.188Z"
   },
   {
    "duration": 10,
    "start_time": "2022-11-11T09:40:23.415Z"
   },
   {
    "duration": 6,
    "start_time": "2022-11-11T09:40:29.813Z"
   },
   {
    "duration": 16,
    "start_time": "2022-11-11T09:41:03.719Z"
   },
   {
    "duration": 14,
    "start_time": "2022-11-11T09:41:42.044Z"
   },
   {
    "duration": 844,
    "start_time": "2022-11-11T09:46:00.204Z"
   },
   {
    "duration": 15,
    "start_time": "2022-11-11T09:46:25.995Z"
   },
   {
    "duration": 78,
    "start_time": "2022-11-11T09:48:34.750Z"
   },
   {
    "duration": 12,
    "start_time": "2022-11-11T09:48:39.876Z"
   },
   {
    "duration": 13,
    "start_time": "2022-11-11T09:48:44.217Z"
   },
   {
    "duration": 13,
    "start_time": "2022-11-11T09:48:50.001Z"
   },
   {
    "duration": 4,
    "start_time": "2022-11-11T09:50:11.547Z"
   },
   {
    "duration": 849,
    "start_time": "2022-11-11T09:50:16.733Z"
   },
   {
    "duration": 785,
    "start_time": "2022-11-11T09:50:32.972Z"
   },
   {
    "duration": 19,
    "start_time": "2022-11-11T09:51:31.407Z"
   },
   {
    "duration": 10,
    "start_time": "2022-11-11T09:52:30.410Z"
   },
   {
    "duration": 15,
    "start_time": "2022-11-11T09:53:14.622Z"
   },
   {
    "duration": 6,
    "start_time": "2022-11-11T09:53:15.516Z"
   },
   {
    "duration": 6,
    "start_time": "2022-11-11T09:55:52.551Z"
   },
   {
    "duration": 44,
    "start_time": "2022-11-11T09:56:33.546Z"
   },
   {
    "duration": 21,
    "start_time": "2022-11-11T09:56:40.639Z"
   },
   {
    "duration": 7,
    "start_time": "2022-11-11T09:56:59.274Z"
   },
   {
    "duration": 12,
    "start_time": "2022-11-11T09:58:16.943Z"
   },
   {
    "duration": 13,
    "start_time": "2022-11-11T10:00:59.979Z"
   },
   {
    "duration": 14,
    "start_time": "2022-11-11T10:01:06.378Z"
   },
   {
    "duration": 13,
    "start_time": "2022-11-11T10:01:37.821Z"
   },
   {
    "duration": 7,
    "start_time": "2022-11-11T10:03:19.509Z"
   },
   {
    "duration": 6,
    "start_time": "2022-11-11T10:03:57.882Z"
   },
   {
    "duration": 21,
    "start_time": "2022-11-11T10:05:13.363Z"
   },
   {
    "duration": 11,
    "start_time": "2022-11-11T10:05:26.567Z"
   },
   {
    "duration": 54,
    "start_time": "2022-11-11T10:07:24.740Z"
   },
   {
    "duration": 9,
    "start_time": "2022-11-11T10:07:29.084Z"
   },
   {
    "duration": 9,
    "start_time": "2022-11-11T10:08:11.122Z"
   },
   {
    "duration": 5,
    "start_time": "2022-11-11T10:08:21.240Z"
   },
   {
    "duration": 19,
    "start_time": "2022-11-11T10:08:26.942Z"
   },
   {
    "duration": 5,
    "start_time": "2022-11-11T10:09:13.999Z"
   },
   {
    "duration": 6,
    "start_time": "2022-11-11T10:09:44.569Z"
   },
   {
    "duration": 11,
    "start_time": "2022-11-11T10:13:18.021Z"
   },
   {
    "duration": 9,
    "start_time": "2022-11-11T10:13:23.450Z"
   },
   {
    "duration": 44,
    "start_time": "2022-11-11T10:14:48.927Z"
   },
   {
    "duration": 59,
    "start_time": "2022-11-11T10:14:55.236Z"
   },
   {
    "duration": 7,
    "start_time": "2022-11-11T10:16:18.553Z"
   },
   {
    "duration": 52,
    "start_time": "2022-11-11T10:17:01.634Z"
   },
   {
    "duration": 10,
    "start_time": "2022-11-11T10:17:06.384Z"
   },
   {
    "duration": 13,
    "start_time": "2022-11-11T10:17:32.686Z"
   },
   {
    "duration": 11,
    "start_time": "2022-11-11T10:17:38.137Z"
   },
   {
    "duration": 9,
    "start_time": "2022-11-11T10:20:04.856Z"
   },
   {
    "duration": 7,
    "start_time": "2022-11-11T10:21:39.307Z"
   },
   {
    "duration": 12,
    "start_time": "2022-11-11T10:21:47.778Z"
   },
   {
    "duration": 10,
    "start_time": "2022-11-11T10:22:06.320Z"
   },
   {
    "duration": 14,
    "start_time": "2022-11-11T10:23:43.354Z"
   },
   {
    "duration": 296,
    "start_time": "2022-11-11T10:23:59.438Z"
   },
   {
    "duration": 12,
    "start_time": "2022-11-11T10:25:09.774Z"
   },
   {
    "duration": 8,
    "start_time": "2022-11-11T10:25:24.768Z"
   },
   {
    "duration": 632,
    "start_time": "2022-11-11T10:28:57.723Z"
   },
   {
    "duration": 597,
    "start_time": "2022-11-11T10:29:03.723Z"
   },
   {
    "duration": 642,
    "start_time": "2022-11-11T10:29:47.639Z"
   },
   {
    "duration": 7,
    "start_time": "2022-11-11T10:30:21.783Z"
   },
   {
    "duration": 820,
    "start_time": "2022-11-11T10:31:45.717Z"
   },
   {
    "duration": 5,
    "start_time": "2022-11-11T10:31:51.546Z"
   },
   {
    "duration": 7,
    "start_time": "2022-11-11T10:32:10.253Z"
   },
   {
    "duration": 21,
    "start_time": "2022-11-11T10:43:46.609Z"
   },
   {
    "duration": 10,
    "start_time": "2022-11-11T10:44:21.136Z"
   },
   {
    "duration": 9,
    "start_time": "2022-11-11T10:44:31.595Z"
   },
   {
    "duration": 9,
    "start_time": "2022-11-11T10:44:45.122Z"
   },
   {
    "duration": 12,
    "start_time": "2022-11-11T10:51:23.041Z"
   },
   {
    "duration": 9,
    "start_time": "2022-11-11T10:51:28.133Z"
   },
   {
    "duration": 9,
    "start_time": "2022-11-11T10:51:40.070Z"
   },
   {
    "duration": 12,
    "start_time": "2022-11-11T10:54:54.008Z"
   },
   {
    "duration": 14,
    "start_time": "2022-11-11T10:55:02.299Z"
   },
   {
    "duration": 45,
    "start_time": "2022-11-11T10:56:31.977Z"
   },
   {
    "duration": 12,
    "start_time": "2022-11-11T10:56:37.830Z"
   },
   {
    "duration": 13,
    "start_time": "2022-11-11T10:56:48.963Z"
   },
   {
    "duration": 7,
    "start_time": "2022-11-11T11:00:17.762Z"
   },
   {
    "duration": 13,
    "start_time": "2022-11-11T11:02:00.223Z"
   },
   {
    "duration": 16,
    "start_time": "2022-11-11T11:04:22.344Z"
   },
   {
    "duration": 17,
    "start_time": "2022-11-11T11:04:34.535Z"
   },
   {
    "duration": 8,
    "start_time": "2022-11-11T11:09:01.447Z"
   },
   {
    "duration": 8,
    "start_time": "2022-11-11T11:13:00.131Z"
   },
   {
    "duration": 8,
    "start_time": "2022-11-11T11:13:03.848Z"
   },
   {
    "duration": 8,
    "start_time": "2022-11-11T11:13:07.986Z"
   },
   {
    "duration": 3,
    "start_time": "2022-11-11T11:13:47.140Z"
   },
   {
    "duration": 5,
    "start_time": "2022-11-11T11:13:49.646Z"
   },
   {
    "duration": 7,
    "start_time": "2022-11-11T11:13:57.225Z"
   },
   {
    "duration": 4,
    "start_time": "2022-11-11T11:14:23.959Z"
   },
   {
    "duration": 20,
    "start_time": "2022-11-11T11:28:34.906Z"
   },
   {
    "duration": 25,
    "start_time": "2022-11-11T11:28:39.560Z"
   },
   {
    "duration": 15,
    "start_time": "2022-11-11T11:29:22.239Z"
   },
   {
    "duration": 53,
    "start_time": "2022-11-11T11:29:38.962Z"
   },
   {
    "duration": 23,
    "start_time": "2022-11-11T11:29:42.259Z"
   },
   {
    "duration": 25,
    "start_time": "2022-11-11T11:31:12.062Z"
   },
   {
    "duration": 19,
    "start_time": "2022-11-11T11:31:57.573Z"
   },
   {
    "duration": 26,
    "start_time": "2022-11-11T11:32:01.446Z"
   },
   {
    "duration": 28,
    "start_time": "2022-11-11T11:32:51.882Z"
   },
   {
    "duration": 25,
    "start_time": "2022-11-11T11:33:11.364Z"
   },
   {
    "duration": 34,
    "start_time": "2022-11-11T11:33:16.851Z"
   },
   {
    "duration": 26,
    "start_time": "2022-11-11T11:33:37.117Z"
   },
   {
    "duration": 22,
    "start_time": "2022-11-11T11:41:28.373Z"
   },
   {
    "duration": 15,
    "start_time": "2022-11-11T11:54:58.537Z"
   },
   {
    "duration": 22,
    "start_time": "2022-11-11T11:58:16.700Z"
   },
   {
    "duration": 23,
    "start_time": "2022-11-11T12:03:09.295Z"
   },
   {
    "duration": 26,
    "start_time": "2022-11-11T12:04:10.887Z"
   },
   {
    "duration": 25,
    "start_time": "2022-11-11T12:04:44.022Z"
   },
   {
    "duration": 49,
    "start_time": "2022-11-11T12:05:37.161Z"
   },
   {
    "duration": 36,
    "start_time": "2022-11-11T12:05:43.778Z"
   },
   {
    "duration": 25,
    "start_time": "2022-11-11T12:05:59.171Z"
   },
   {
    "duration": 54,
    "start_time": "2022-11-11T12:11:14.350Z"
   },
   {
    "duration": 127,
    "start_time": "2022-11-11T12:11:20.487Z"
   },
   {
    "duration": 53,
    "start_time": "2022-11-11T12:11:39.500Z"
   },
   {
    "duration": 60,
    "start_time": "2022-11-11T12:11:48.326Z"
   },
   {
    "duration": 46,
    "start_time": "2022-11-11T12:11:59.367Z"
   },
   {
    "duration": 1180,
    "start_time": "2022-11-11T12:17:22.592Z"
   },
   {
    "duration": 26,
    "start_time": "2022-11-11T12:20:13.455Z"
   },
   {
    "duration": 25,
    "start_time": "2022-11-11T12:20:37.959Z"
   },
   {
    "duration": 24,
    "start_time": "2022-11-11T12:21:32.511Z"
   },
   {
    "duration": 24,
    "start_time": "2022-11-11T12:29:14.087Z"
   },
   {
    "duration": 25,
    "start_time": "2022-11-11T12:37:32.252Z"
   },
   {
    "duration": 20,
    "start_time": "2022-11-11T12:39:50.890Z"
   },
   {
    "duration": 20,
    "start_time": "2022-11-11T12:40:37.380Z"
   },
   {
    "duration": 25,
    "start_time": "2022-11-11T12:41:37.285Z"
   },
   {
    "duration": 35,
    "start_time": "2022-11-11T12:56:45.467Z"
   },
   {
    "duration": 39,
    "start_time": "2022-11-11T12:57:10.498Z"
   },
   {
    "duration": 33,
    "start_time": "2022-11-11T12:57:14.889Z"
   },
   {
    "duration": 68,
    "start_time": "2022-11-11T12:58:19.212Z"
   },
   {
    "duration": 40,
    "start_time": "2022-11-11T12:58:42.813Z"
   },
   {
    "duration": 754,
    "start_time": "2022-11-11T13:18:22.030Z"
   },
   {
    "duration": 8,
    "start_time": "2022-11-11T13:18:36.934Z"
   },
   {
    "duration": 10,
    "start_time": "2022-11-11T13:18:52.454Z"
   },
   {
    "duration": 10,
    "start_time": "2022-11-11T13:19:50.972Z"
   },
   {
    "duration": 13,
    "start_time": "2022-11-11T13:19:54.937Z"
   },
   {
    "duration": 33,
    "start_time": "2022-11-11T13:36:11.803Z"
   },
   {
    "duration": 29,
    "start_time": "2022-11-11T13:36:55.718Z"
   },
   {
    "duration": 29,
    "start_time": "2022-11-11T13:37:43.647Z"
   },
   {
    "duration": 35,
    "start_time": "2022-11-11T13:37:50.565Z"
   },
   {
    "duration": 31,
    "start_time": "2022-11-11T13:38:05.351Z"
   },
   {
    "duration": 28,
    "start_time": "2022-11-11T13:38:31.308Z"
   },
   {
    "duration": 62,
    "start_time": "2022-11-11T13:41:30.431Z"
   },
   {
    "duration": 39,
    "start_time": "2022-11-11T13:41:38.394Z"
   },
   {
    "duration": 31,
    "start_time": "2022-11-11T13:41:54.405Z"
   },
   {
    "duration": 29,
    "start_time": "2022-11-11T13:43:33.405Z"
   },
   {
    "duration": 31,
    "start_time": "2022-11-11T13:44:39.518Z"
   },
   {
    "duration": 44,
    "start_time": "2022-11-11T13:51:31.705Z"
   },
   {
    "duration": 36,
    "start_time": "2022-11-11T14:01:11.484Z"
   },
   {
    "duration": 32,
    "start_time": "2022-11-11T14:01:28.810Z"
   },
   {
    "duration": 32,
    "start_time": "2022-11-11T14:03:24.861Z"
   },
   {
    "duration": 480,
    "start_time": "2022-11-11T20:41:33.630Z"
   },
   {
    "duration": 21,
    "start_time": "2022-11-11T20:41:34.112Z"
   },
   {
    "duration": 14,
    "start_time": "2022-11-11T20:41:34.134Z"
   },
   {
    "duration": 8,
    "start_time": "2022-11-11T20:41:34.149Z"
   },
   {
    "duration": 30,
    "start_time": "2022-11-11T20:41:34.159Z"
   },
   {
    "duration": 24,
    "start_time": "2022-11-11T20:41:34.190Z"
   },
   {
    "duration": 11,
    "start_time": "2022-11-11T20:41:34.216Z"
   },
   {
    "duration": 5,
    "start_time": "2022-11-11T20:41:34.228Z"
   },
   {
    "duration": 8,
    "start_time": "2022-11-11T20:41:34.234Z"
   },
   {
    "duration": 4,
    "start_time": "2022-11-11T20:41:34.244Z"
   },
   {
    "duration": 33,
    "start_time": "2022-11-11T20:41:34.249Z"
   },
   {
    "duration": 30,
    "start_time": "2022-11-11T20:41:34.284Z"
   },
   {
    "duration": 4,
    "start_time": "2022-11-11T20:41:34.316Z"
   },
   {
    "duration": 11,
    "start_time": "2022-11-11T20:41:34.365Z"
   },
   {
    "duration": 20,
    "start_time": "2022-11-11T20:41:34.377Z"
   },
   {
    "duration": 15,
    "start_time": "2022-11-11T20:41:34.399Z"
   },
   {
    "duration": 3,
    "start_time": "2022-11-11T20:41:34.464Z"
   },
   {
    "duration": 12,
    "start_time": "2022-11-11T20:41:34.469Z"
   },
   {
    "duration": 8,
    "start_time": "2022-11-11T20:41:34.482Z"
   },
   {
    "duration": 7,
    "start_time": "2022-11-11T20:41:34.492Z"
   },
   {
    "duration": 9,
    "start_time": "2022-11-11T20:41:34.614Z"
   },
   {
    "duration": 31,
    "start_time": "2022-11-11T20:41:34.625Z"
   },
   {
    "duration": 31,
    "start_time": "2022-11-11T20:41:34.665Z"
   },
   {
    "duration": 34,
    "start_time": "2022-11-11T20:41:34.698Z"
   },
   {
    "duration": 24,
    "start_time": "2022-11-11T20:41:34.773Z"
   },
   {
    "duration": 92,
    "start_time": "2022-11-11T20:56:39.509Z"
   }
  ],
  "colab": {
   "name": "dpp_template_part2.ipynb",
   "provenance": []
  },
  "kernelspec": {
   "display_name": "Python 3 (ipykernel)",
   "language": "python",
   "name": "python3"
  },
  "language_info": {
   "codemirror_mode": {
    "name": "ipython",
    "version": 3
   },
   "file_extension": ".py",
   "mimetype": "text/x-python",
   "name": "python",
   "nbconvert_exporter": "python",
   "pygments_lexer": "ipython3",
   "version": "3.9.5"
  },
  "toc": {
   "base_numbering": 1,
   "nav_menu": {},
   "number_sections": true,
   "sideBar": true,
   "skip_h1_title": true,
   "title_cell": "Table of Contents",
   "title_sidebar": "Contents",
   "toc_cell": false,
   "toc_position": {},
   "toc_section_display": true,
   "toc_window_display": false
  }
 },
 "nbformat": 4,
 "nbformat_minor": 5
}
